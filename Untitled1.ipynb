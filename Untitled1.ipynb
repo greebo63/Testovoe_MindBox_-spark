{
 "cells": [
  {
   "cell_type": "code",
   "execution_count": 22,
   "id": "eec0f40a-96f8-4d65-aaf7-f1c57fe7943e",
   "metadata": {},
   "outputs": [],
   "source": [
    "from pyspark.sql import DataFrame"
   ]
  },
  {
   "cell_type": "code",
   "execution_count": 3,
   "id": "a99021cb-68cd-45fd-972b-582aafd0fb51",
   "metadata": {},
   "outputs": [],
   "source": [
    "from pyspark.sql import SparkSession\n",
    "\n",
    "spark = SparkSession.builder.appName('testovoeMindBox').master('local').config(\"spark.jars\", \"/home/postgresql-42.7.3.jar\").getOrCreate()"
   ]
  },
  {
   "cell_type": "code",
   "execution_count": 30,
   "id": "4a4a0a67-348d-48a3-b804-98811b8da7e8",
   "metadata": {},
   "outputs": [],
   "source": [
    "product_data=[{\"product_id\":1,\"name\":\"Молоко\"},{\"product_id\":2,\"name\":\"Вода\"},{\"product_id\":3,\"name\":\"Сухарики\"}]\n",
    "category_data=[{\"category_id\":1,\"name\":\"Молочное\"},{\"category_id\":2,\"name\":\"Жидкое\"},{\"category_id\":3,\"name\":\"Фрукты\"}]"
   ]
  },
  {
   "cell_type": "code",
   "execution_count": 15,
   "id": "ee0a9f5d-7eb1-4eb8-8c96-8d9a1482535f",
   "metadata": {},
   "outputs": [],
   "source": [
    "category_product_data=[\n",
    "    {\"category_id\":1,\"product_id\":1},\n",
    "    {\"category_id\":2,\"product_id\":1},\n",
    "    {\"category_id\":2,\"product_id\":2}]"
   ]
  },
  {
   "cell_type": "code",
   "execution_count": 34,
   "id": "680b7d9e-cf3c-436a-90be-bf168355b8c4",
   "metadata": {},
   "outputs": [],
   "source": [
    "product=spark.createDataFrame(product_data)\n",
    "category=spark.createDataFrame(category_data)"
   ]
  },
  {
   "cell_type": "code",
   "execution_count": 16,
   "id": "c916f255-2b18-4864-9872-73b83a8826ac",
   "metadata": {},
   "outputs": [],
   "source": [
    "category_product=spark.createDataFrame(category_product_data)"
   ]
  },
  {
   "cell_type": "code",
   "execution_count": 35,
   "id": "45418e3f-cf24-477c-8351-4eb5df767be1",
   "metadata": {},
   "outputs": [
    {
     "name": "stdout",
     "output_type": "stream",
     "text": [
      "+--------+----------+\n",
      "|    name|product_id|\n",
      "+--------+----------+\n",
      "|  Молоко|         1|\n",
      "|    Вода|         2|\n",
      "|Сухарики|         3|\n",
      "+--------+----------+\n",
      "\n",
      "+-----------+--------+\n",
      "|category_id|    name|\n",
      "+-----------+--------+\n",
      "|          1|Молочное|\n",
      "|          2|  Жидкое|\n",
      "|          3|  Фрукты|\n",
      "+-----------+--------+\n",
      "\n",
      "+-----------+----------+\n",
      "|category_id|product_id|\n",
      "+-----------+----------+\n",
      "|          1|         1|\n",
      "|          2|         1|\n",
      "|          2|         2|\n",
      "+-----------+----------+\n",
      "\n"
     ]
    }
   ],
   "source": [
    "product.show()\n",
    "category.show()\n",
    "category_product.show()"
   ]
  },
  {
   "cell_type": "code",
   "execution_count": 60,
   "id": "f88a9ab7-0272-46f8-9921-74acce6a0c38",
   "metadata": {},
   "outputs": [],
   "source": [
    "def joinDataframes(df1: DataFrame, df2: DataFrame, link_df:DataFrame):\n",
    "    df1.createTempView(\"df1\")\n",
    "    df2.createTempView(\"df2\")\n",
    "    link_df.createTempView(\"link_df\")\n",
    "\n",
    "    res_df=spark.sql(\n",
    "        \"\"\"SELECT \n",
    "               d1.name as Product_name,\n",
    "               coalesce(d2.name as Category_name, ''\n",
    "           FROM\n",
    "               df1 d1\n",
    "               left join link_df ld on d1.product_id=ld.product_id\n",
    "               left join df2 d2 on ld.category_id=d2.category_id\n",
    "        \"\"\"\n",
    "    )\n",
    "    spark.catalog.dropTempView(\"df1\")\n",
    "    spark.catalog.dropTempView(\"df2\")\n",
    "    spark.catalog.dropTempView(\"link_df\")\n",
    "    return res_df"
   ]
  },
  {
   "cell_type": "code",
   "execution_count": 61,
   "id": "617181f9-7c05-4d73-abb9-f32a69f2bb3c",
   "metadata": {},
   "outputs": [
    {
     "data": {
      "text/plain": [
       "True"
      ]
     },
     "execution_count": 61,
     "metadata": {},
     "output_type": "execute_result"
    }
   ],
   "source": [
    "    spark.catalog.dropTempView(\"df1\")\n",
    "    spark.catalog.dropTempView(\"df2\")\n",
    "    spark.catalog.dropTempView(\"link_df\")"
   ]
  },
  {
   "cell_type": "code",
   "execution_count": 62,
   "id": "d6e65578-9f37-4f42-8beb-692a2d8bf043",
   "metadata": {},
   "outputs": [
    {
     "name": "stdout",
     "output_type": "stream",
     "text": [
      "+------------+-------------+\n",
      "|Product_name|Category_name|\n",
      "+------------+-------------+\n",
      "|      Молоко|       Жидкое|\n",
      "|      Молоко|     Молочное|\n",
      "|    Сухарики|         NULL|\n",
      "|        Вода|       Жидкое|\n",
      "+------------+-------------+\n",
      "\n"
     ]
    }
   ],
   "source": [
    "joinDataframes(product, category, category_product).show()"
   ]
  }
 ],
 "metadata": {
  "kernelspec": {
   "display_name": "Python 3 (ipykernel)",
   "language": "python",
   "name": "python3"
  },
  "language_info": {
   "codemirror_mode": {
    "name": "ipython",
    "version": 3
   },
   "file_extension": ".py",
   "mimetype": "text/x-python",
   "name": "python",
   "nbconvert_exporter": "python",
   "pygments_lexer": "ipython3",
   "version": "3.12.7"
  }
 },
 "nbformat": 4,
 "nbformat_minor": 5
}
